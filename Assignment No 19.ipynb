{
 "cells": [
  {
   "cell_type": "markdown",
   "id": "af9b8758",
   "metadata": {},
   "source": [
    ">__1. Make a class called Thing with no contents and print it. Then, create an object called example from this class and also print it. Are the printed values the same or different?__"
   ]
  },
  {
   "cell_type": "code",
   "execution_count": 2,
   "id": "7c76969e",
   "metadata": {},
   "outputs": [
    {
     "name": "stdout",
     "output_type": "stream",
     "text": [
      "<class '__main__.Things'>\n"
     ]
    }
   ],
   "source": [
    "class Things:\n",
    "    pass\n",
    "print(Things)"
   ]
  },
  {
   "cell_type": "code",
   "execution_count": 4,
   "id": "1204af43",
   "metadata": {},
   "outputs": [
    {
     "name": "stdout",
     "output_type": "stream",
     "text": [
      "<__main__.Things object at 0x000001FF3692EDF0>\n"
     ]
    }
   ],
   "source": [
    "example = Things()\n",
    "print(example)"
   ]
  },
  {
   "cell_type": "markdown",
   "id": "eaef227c",
   "metadata": {},
   "source": [
    ">__2. Create a new class called Thing2 and add the value 'abc' to the letters class attribute. Letters should be printed.__"
   ]
  },
  {
   "cell_type": "code",
   "execution_count": 14,
   "id": "6b0432e6",
   "metadata": {},
   "outputs": [
    {
     "name": "stdout",
     "output_type": "stream",
     "text": [
      "abc\n"
     ]
    }
   ],
   "source": [
    "class Thing2:\n",
    "    letters = 'abc'\n",
    "    \n",
    "print(Thing2.letters)"
   ]
  },
  {
   "cell_type": "markdown",
   "id": "77b5d92c",
   "metadata": {},
   "source": [
    ">__3. Make yet another class called, of course, Thing3. This time, assign the value 'xyz' to an instance (object) attribute called letters. Print letters. Do you need to make an object from the class to do this?__"
   ]
  },
  {
   "cell_type": "code",
   "execution_count": 7,
   "id": "9d8555d2",
   "metadata": {},
   "outputs": [],
   "source": [
    "class Thing3:\n",
    "    def __init__(self):\n",
    "        self.letters = 'xyz'"
   ]
  },
  {
   "cell_type": "code",
   "execution_count": 16,
   "id": "1478922e",
   "metadata": {},
   "outputs": [
    {
     "ename": "AttributeError",
     "evalue": "type object 'Thing3' has no attribute 'letters'",
     "output_type": "error",
     "traceback": [
      "\u001b[1;31m---------------------------------------------------------------------------\u001b[0m",
      "\u001b[1;31mAttributeError\u001b[0m                            Traceback (most recent call last)",
      "\u001b[1;32m<ipython-input-16-6f5d5916809a>\u001b[0m in \u001b[0;36m<module>\u001b[1;34m\u001b[0m\n\u001b[1;32m----> 1\u001b[1;33m \u001b[0mprint\u001b[0m\u001b[1;33m(\u001b[0m\u001b[0mThing3\u001b[0m\u001b[1;33m.\u001b[0m\u001b[0mletters\u001b[0m\u001b[1;33m)\u001b[0m\u001b[1;33m\u001b[0m\u001b[1;33m\u001b[0m\u001b[0m\n\u001b[0m",
      "\u001b[1;31mAttributeError\u001b[0m: type object 'Thing3' has no attribute 'letters'"
     ]
    }
   ],
   "source": [
    "print(Thing3.letters)"
   ]
  },
  {
   "cell_type": "markdown",
   "id": "74779a45",
   "metadata": {},
   "source": [
    "Yes, I need to make an object from the class to do this."
   ]
  },
  {
   "cell_type": "code",
   "execution_count": 10,
   "id": "acc7cf9f",
   "metadata": {},
   "outputs": [
    {
     "name": "stdout",
     "output_type": "stream",
     "text": [
      "xyz\n"
     ]
    }
   ],
   "source": [
    "obj = Thing3()\n",
    "print(obj.letters)"
   ]
  },
  {
   "cell_type": "markdown",
   "id": "8f0fcd1b",
   "metadata": {},
   "source": [
    ">__4. Create an Element class with the instance attributes name, symbol, and number. Create a class object with the values 'Hydrogen,' 'H,' and 1.__"
   ]
  },
  {
   "cell_type": "code",
   "execution_count": 21,
   "id": "c213a0f9",
   "metadata": {},
   "outputs": [],
   "source": [
    "class Element:\n",
    "    def __init__(self,name,symbol,number):\n",
    "        self.name = name\n",
    "        self.symbol = symbol\n",
    "        self.number = number\n",
    "        \n",
    "gas = Element('Hydrogen','H',1)    "
   ]
  },
  {
   "cell_type": "markdown",
   "id": "d6cc8d41",
   "metadata": {},
   "source": [
    ">__5. Make a dictionary with these keys and values: 'name': 'Hydrogen', 'symbol': 'H', 'number': 1. Then, create an object called hydrogen from class Element using this dictionary.__"
   ]
  },
  {
   "cell_type": "code",
   "execution_count": 3,
   "id": "cf4f83d3",
   "metadata": {},
   "outputs": [
    {
     "data": {
      "text/plain": [
       "'Hydrogen'"
      ]
     },
     "execution_count": 3,
     "metadata": {},
     "output_type": "execute_result"
    }
   ],
   "source": [
    "dic = {'name':'Hydrogen','symbol':'H','number':1}\n",
    "hydrogen = Element(dic['name'], dic['symbol'], dic['number'])\n",
    "hydrogen.name"
   ]
  },
  {
   "cell_type": "markdown",
   "id": "66d56b76",
   "metadata": {},
   "source": [
    ">__6. For the Element class, define a method called dump() that prints the values of the object’s attributes (name, symbol, and number). Create the hydrogen object from this new definition and use dump() to print its attributes__"
   ]
  },
  {
   "cell_type": "code",
   "execution_count": 8,
   "id": "4d88121a",
   "metadata": {},
   "outputs": [
    {
     "name": "stdout",
     "output_type": "stream",
     "text": [
      "name=A, symbol=B, number=C\n"
     ]
    }
   ],
   "source": [
    "class Element():\n",
    "    def __init__(self,name,symbol,number):\n",
    "        self.name = name\n",
    "        self.symbol = symbol\n",
    "        self.number = number\n",
    "           \n",
    "    def dump(self):\n",
    "        print('name=%s, symbol=%s, number=%s' % (self.name, self.symbol, self.number))\n",
    "    \n",
    "hydrogen = Element('A','B','C') \n",
    "hydrogen.dump()"
   ]
  },
  {
   "cell_type": "markdown",
   "id": "323cb8bf",
   "metadata": {},
   "source": [
    ">__7. Call print(hydrogen). In the definition of Element, change the name of method dump to __str__, __create a new hydrogen object, and call print(hydrogen) again.__"
   ]
  },
  {
   "cell_type": "code",
   "execution_count": 9,
   "id": "c0751406",
   "metadata": {},
   "outputs": [
    {
     "name": "stdout",
     "output_type": "stream",
     "text": [
      "<__main__.Element object at 0x00000272219E0A60>\n",
      "name=A,symbol=B,number=C\n"
     ]
    }
   ],
   "source": [
    "print(hydrogen)\n",
    "\n",
    "class Element():\n",
    "    def __init__(self,name,symbol,number):\n",
    "         self.name=name\n",
    "         self.symbol=symbol\n",
    "         self.number=number\n",
    "    def __str__(self):\n",
    "         return (\"name=%s,symbol=%s,number=%s\"%(self.name,self.symbol,self.number))\n",
    " \n",
    "hydrogen=Element(\"A\",\"B\",\"C\")\n",
    "\n",
    "print(hydrogen)"
   ]
  },
  {
   "cell_type": "markdown",
   "id": "8a1c5804",
   "metadata": {},
   "source": [
    ">__8. Modify Element to make the attributes name, symbol, and number private. Define a getter property for each to return its value.__"
   ]
  },
  {
   "cell_type": "code",
   "execution_count": 12,
   "id": "439ce9a6",
   "metadata": {},
   "outputs": [
    {
     "name": "stdout",
     "output_type": "stream",
     "text": [
      "A\n",
      "B\n",
      "C\n"
     ]
    }
   ],
   "source": [
    "class Element():\n",
    "     def __init__(self,name,symbol,number):\n",
    "         self.__number=number\n",
    "         self.__symbol=symbol\n",
    "         self.__name=name\n",
    "     @property\n",
    "     def name(self):\n",
    "         return self.__name\n",
    "     @property\n",
    "     def symbol(self):\n",
    "         return self.__symbol\n",
    "     @property\n",
    "     def number(self):\n",
    "         return self.__number\n",
    "    \n",
    "hydrogen=Element(\"A\",\"B\",\"C\")\n",
    "print(hydrogen.name)\n",
    "print(hydrogen.symbol)\n",
    "print(hydrogen.number)"
   ]
  },
  {
   "cell_type": "markdown",
   "id": "84d27ea7",
   "metadata": {},
   "source": [
    ">__9. Define three classes: Bear, Rabbit, and Octothorpe. For each, define only one method: eats(). This should return 'berries' (Bear), 'clover' (Rabbit), or 'campers' (Octothorpe). Create one object from each and print what it eats.__"
   ]
  },
  {
   "cell_type": "code",
   "execution_count": 13,
   "id": "7640471d",
   "metadata": {},
   "outputs": [
    {
     "name": "stdout",
     "output_type": "stream",
     "text": [
      "berries\n",
      "clover\n",
      "campers\n"
     ]
    }
   ],
   "source": [
    " class Bear():\n",
    "     def eats(self):\n",
    "         return \"berries\"\n",
    " \n",
    " class Rabbit():\n",
    "     def eats(self):\n",
    "         return \"clover\"\n",
    " \n",
    " class Octothorse():\n",
    "     def eats(self):\n",
    "         return \"campers\"\n",
    "        \n",
    "a=Bear()\n",
    "b=Rabbit()\n",
    "c=Octothorse()\n",
    "\n",
    "print(a.eats())\n",
    "print(b.eats())\n",
    "print(c.eats())\n"
   ]
  },
  {
   "cell_type": "markdown",
   "id": "9c6a1ad7",
   "metadata": {},
   "source": [
    ">__10. Define these classes: Laser, Claw, and SmartPhone. Each has only one method: does(). This returns 'disintegrate' (Laser), 'crush' (Claw), or 'ring' (SmartPhone). Then, define the class Robot that has one instance (object) of each of these. Define a does() method for the Robot that prints what its component objects do.__"
   ]
  },
  {
   "cell_type": "code",
   "execution_count": 14,
   "id": "003f8822",
   "metadata": {},
   "outputs": [
    {
     "name": "stdout",
     "output_type": "stream",
     "text": [
      "I have many attachments:\n",
      "\n",
      "My laser,to disintegrate.\n",
      "My claw,to crush.\n",
      "My smartphone,to ring.\n"
     ]
    }
   ],
   "source": [
    "class Laser():\n",
    "     def does(self):\n",
    "         return \"disintegrate\"\n",
    " \n",
    "class Claw():\n",
    "     def does(self):\n",
    "         return \"crush\"\n",
    " \n",
    "class SmartPhone():\n",
    "     def does(self):\n",
    "         return \"ring\"\n",
    " \n",
    "#Composition\n",
    "class Robot():\n",
    "    def __init__(self):\n",
    "         self.laser=Laser()\n",
    "         self.claw=Claw()\n",
    "         self.smartphone=SmartPhone()\n",
    "    def does(self):\n",
    "         return \"\"\"I have many attachments:\n",
    "\n",
    "My laser,to %s.\n",
    "My claw,to %s.\n",
    "My smartphone,to %s.\"\"\" %(\n",
    "     self.laser.does(),\n",
    "     self.claw.does(),\n",
    "     self.smartphone.does())\n",
    " \n",
    "ro=Robot()\n",
    "print(ro.does())\n"
   ]
  }
 ],
 "metadata": {
  "kernelspec": {
   "display_name": "Python 3",
   "language": "python",
   "name": "python3"
  },
  "language_info": {
   "codemirror_mode": {
    "name": "ipython",
    "version": 3
   },
   "file_extension": ".py",
   "mimetype": "text/x-python",
   "name": "python",
   "nbconvert_exporter": "python",
   "pygments_lexer": "ipython3",
   "version": "3.8.8"
  }
 },
 "nbformat": 4,
 "nbformat_minor": 5
}
